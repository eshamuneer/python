{
  "nbformat": 4,
  "nbformat_minor": 0,
  "metadata": {
    "colab": {
      "provenance": []
    },
    "kernelspec": {
      "name": "python3",
      "display_name": "Python 3"
    },
    "language_info": {
      "name": "python"
    }
  },
  "cells": [
    {
      "cell_type": "markdown",
      "source": [
        "##casting and type function  "
      ],
      "metadata": {
        "id": "4ezI31tDQq5B"
      }
    },
    {
      "cell_type": "code",
      "execution_count": 10,
      "metadata": {
        "colab": {
          "base_uri": "https://localhost:8080/"
        },
        "id": "5qSHxCYVPvh_",
        "outputId": "9aea59ed-c18f-42f9-be74-5942d30cfc68"
      },
      "outputs": [
        {
          "output_type": "stream",
          "name": "stdout",
          "text": [
            "Current Time:Wed May 28 10:06:47 2025\n",
            "15\n",
            "<class 'str'>\n"
          ]
        }
      ],
      "source": [
        "import time\n",
        "t = time.localtime(time.time())\n",
        "localtime = time.asctime(t)\n",
        "str = \"Current Time:\" + time.asctime(t)\n",
        "print(str)\n",
        "x = \"10\"\n",
        "y = 5\n",
        "z = int(x) + y\n",
        "print(z)\n",
        "print(type(x))"
      ]
    },
    {
      "cell_type": "markdown",
      "source": [
        "##list and operations on it"
      ],
      "metadata": {
        "id": "NpfFKr1mUegj"
      }
    },
    {
      "cell_type": "code",
      "source": [
        "even_list=[2,4,6,8,10,12,14,16,18]\n",
        "# Access items\n",
        "print(even_list[0])\n",
        "\n",
        "# Loop through\n",
        "for item in even_list:\n",
        "    print(item)\n",
        "\n",
        "# Add item\n",
        "even_list.append(10)\n",
        "\n",
        "# Remove item\n",
        "even_list.remove(12)\n",
        "\n",
        "# Sort\n",
        "even_list.sort()\n",
        "\n",
        "# Copy\n",
        "copied_list = even_list.copy()\n",
        "\n",
        "# List Comprehension\n",
        "squares = [x**2 for x in even_list]\n",
        "print(squares)\n"
      ],
      "metadata": {
        "colab": {
          "base_uri": "https://localhost:8080/"
        },
        "id": "wCrBf7kKQ4gN",
        "outputId": "20139345-35c2-41c5-e6f2-4f7978f99585"
      },
      "execution_count": 5,
      "outputs": [
        {
          "output_type": "stream",
          "name": "stdout",
          "text": [
            "2\n",
            "2\n",
            "4\n",
            "6\n",
            "8\n",
            "10\n",
            "12\n",
            "14\n",
            "16\n",
            "18\n",
            "[4, 16, 36, 64, 100, 100, 196, 256, 324]\n"
          ]
        }
      ]
    },
    {
      "cell_type": "markdown",
      "source": [
        "##tuple and its operations"
      ],
      "metadata": {
        "id": "pnDoOx1LUcvz"
      }
    },
    {
      "cell_type": "code",
      "source": [
        "import time\n",
        "t = time.localtime(time.time())\n",
        "localtime = time.asctime(t)\n",
        "str = \"Current Time:\" + time.asctime(t)\n",
        "print(str)\n",
        "#creating tuple\n",
        "print(\"creating tuple\")\n",
        "my_tuple_1= (10, 20, 30)\n",
        "my_tuple_2= (40, 50, 60)\n",
        "\n",
        "# Accessing\n",
        "print(\"accessing tuple\")\n",
        "print(my_tuple_1[0])\n",
        "\n",
        "# Looping\n",
        "print(\"looping\")\n",
        "for i in my_tuple_1:\n",
        "    print(i)\n",
        "\n",
        "# Joining\n",
        "print(\"joining\")\n",
        "my_tuple= my_tuple_1 + my_tuple_2\n",
        "print(my_tuple)\n",
        "\n",
        "# Updating (by converting to list and back)\n",
        "print(\"Updating\")\n",
        "temp = list(my_tuple_1)\n",
        "temp[0] = 100\n",
        "my_tuple_1 = tuple(temp)\n",
        "\n",
        "# Unpacking\n",
        "print(\"unpacking\")\n",
        "a, b, c = my_tuple_1\n",
        "print(a, b, c)\n",
        "\n",
        "# Methods\n",
        "print(\"methods\")\n",
        "print(my_tuple_1.count(20))\n",
        "print(my_tuple_1.index(30))\n"
      ],
      "metadata": {
        "colab": {
          "base_uri": "https://localhost:8080/"
        },
        "id": "t-VMJnMZTK7b",
        "outputId": "8fd1da37-9870-4db1-a02f-e29ef5a56810"
      },
      "execution_count": 11,
      "outputs": [
        {
          "output_type": "stream",
          "name": "stdout",
          "text": [
            "Current Time:Wed May 28 10:10:42 2025\n",
            "creating tuple\n",
            "accessing tuple\n",
            "10\n",
            "looping\n",
            "10\n",
            "20\n",
            "30\n",
            "joining\n",
            "(10, 20, 30, 40, 50, 60)\n",
            "Updating\n",
            "unpacking\n",
            "100 20 30\n",
            "methods\n",
            "1\n",
            "2\n"
          ]
        }
      ]
    },
    {
      "cell_type": "code",
      "source": [
        "import time\n",
        "t = time.localtime(time.time())\n",
        "localtime = time.asctime(t)\n",
        "str = \"Current Time:\" + time.asctime(t)\n",
        "print(str)\n",
        "my_set = {1, 2, 3}\n",
        "my_set.add(4)\n",
        "my_set.remove(2)\n",
        "print(my_set)\n"
      ],
      "metadata": {
        "colab": {
          "base_uri": "https://localhost:8080/"
        },
        "id": "GMIQDA19VgkJ",
        "outputId": "e8cb3f35-394e-45bf-a1df-34026ce37bb6"
      },
      "execution_count": 13,
      "outputs": [
        {
          "output_type": "stream",
          "name": "stdout",
          "text": [
            "Current Time:Wed May 28 10:25:29 2025\n",
            "{1, 3, 4}\n"
          ]
        }
      ]
    },
    {
      "cell_type": "code",
      "source": [
        "import array\n",
        "\n",
        "# Create an array of integers\n",
        "numbers = array.array('i', [1, 2, 3, 4, 5])\n",
        "\n",
        "# Access elements\n",
        "print(numbers[0])  # Output: 1\n",
        "\n",
        "# Append new element\n",
        "numbers.append(6)\n",
        "\n",
        "# Loop through array\n",
        "for num in numbers:\n",
        "    print(num)\n"
      ],
      "metadata": {
        "colab": {
          "base_uri": "https://localhost:8080/"
        },
        "id": "qKXpcOTqa47O",
        "outputId": "a2c4728c-73d1-416f-e50e-256b76ce62a0"
      },
      "execution_count": 14,
      "outputs": [
        {
          "output_type": "stream",
          "name": "stdout",
          "text": [
            "1\n",
            "1\n",
            "2\n",
            "3\n",
            "4\n",
            "5\n",
            "6\n"
          ]
        }
      ]
    },
    {
      "cell_type": "code",
      "source": [
        "shopping_list = [\"milk\", \"bread\", \"eggs\", \"butter\", \"juice\", \"sugar\", \"salt\", \"biscuits\", \"tea\", \"coffee\"]\n",
        "\n",
        "# Display\n",
        "for item in shopping_list:\n",
        "    print(item)\n",
        "\n",
        "# Add item\n",
        "new_item = input(\"Do you want to add an item? Enter item name or press Enter to skip: \")\n",
        "if new_item:\n",
        "    shopping_list.append(new_item)\n",
        "\n",
        "# Remove item\n",
        "remove_item = input(\"Do you want to remove an item? Enter item name or press Enter to skip: \")\n",
        "if remove_item:\n",
        "    if remove_item in shopping_list:\n",
        "        shopping_list.remove(remove_item)\n",
        "    else:\n",
        "        print(\"Item not found\")\n",
        "\n",
        "# Final list\n",
        "print(\"Updated shopping list:\")\n",
        "print(shopping_list)\n"
      ],
      "metadata": {
        "colab": {
          "base_uri": "https://localhost:8080/"
        },
        "id": "oYj_hTntcotm",
        "outputId": "d21bfc1e-253b-479a-fa15-e5cb4b0cee83"
      },
      "execution_count": null,
      "outputs": [
        {
          "output_type": "stream",
          "name": "stdout",
          "text": [
            "milk\n",
            "bread\n",
            "eggs\n",
            "butter\n",
            "juice\n",
            "sugar\n",
            "salt\n",
            "biscuits\n",
            "tea\n",
            "coffee\n"
          ]
        }
      ]
    },
    {
      "cell_type": "code",
      "source": [
        "def check_even_odd(number):\n",
        "    if number % 2 == 0:\n",
        "        print(\"The number is even\")\n",
        "    else:\n",
        "        print(\"The number is odd\")\n",
        "\n",
        "check_even_odd(5)\n",
        "check_even_odd(6)\n"
      ],
      "metadata": {
        "colab": {
          "base_uri": "https://localhost:8080/"
        },
        "id": "0WMMun2Ddal-",
        "outputId": "c763ceba-68fd-4421-e26b-16c2ab43c5e5"
      },
      "execution_count": 18,
      "outputs": [
        {
          "output_type": "stream",
          "name": "stdout",
          "text": [
            "The number is odd\n",
            "The number is even\n"
          ]
        }
      ]
    },
    {
      "cell_type": "code",
      "source": [
        "import math\n",
        "\n",
        "# Using sqrt() and pi from math module\n",
        "num = 25\n",
        "print(\"Square root:\", math.sqrt(num))\n",
        "print(\"Value of pi:\", math.pi)\n"
      ],
      "metadata": {
        "colab": {
          "base_uri": "https://localhost:8080/"
        },
        "id": "9EzaX0Vyewyr",
        "outputId": "e9034f21-9469-4e4c-9673-162081d7c5c8"
      },
      "execution_count": 19,
      "outputs": [
        {
          "output_type": "stream",
          "name": "stdout",
          "text": [
            "Square root: 5.0\n",
            "Value of pi: 3.141592653589793\n"
          ]
        }
      ]
    },
    {
      "cell_type": "code",
      "source": [
        "marks = (65, 70, 75, 80, 85)\n",
        "\n",
        "# I. First and last\n",
        "print(\"First:\", marks[0])\n",
        "print(\"Last:\", marks[-1])\n",
        "\n",
        "# II. Unpack\n",
        "m1, m2, m3, m4, m5 = marks\n",
        "\n",
        "# III. Add 5\n",
        "new_marks = tuple(mark + 5 for mark in marks)\n",
        "\n",
        "# IV. Display\n",
        "print(\"Original:\", marks)\n",
        "print(\"New:\", new_marks)\n"
      ],
      "metadata": {
        "colab": {
          "base_uri": "https://localhost:8080/"
        },
        "id": "UDXfuWFOhlFV",
        "outputId": "6f9eb6bc-95f7-42eb-81ed-d81aa2b1eae2"
      },
      "execution_count": 20,
      "outputs": [
        {
          "output_type": "stream",
          "name": "stdout",
          "text": [
            "First: 65\n",
            "Last: 85\n",
            "Original: (65, 70, 75, 80, 85)\n",
            "New: (70, 75, 80, 85, 90)\n"
          ]
        }
      ]
    },
    {
      "cell_type": "code",
      "source": [
        "numbers = [5, 12, 7, 18, 9, 24, 3, 16, 11]\n",
        "\n",
        "div3 = even = odd = 0\n",
        "\n",
        "for x in numbers:\n",
        "    if x % 3 == 0:\n",
        "        print(f\"{x} is divisible by 3\")\n",
        "        div3 += 1\n",
        "    elif x % 2 == 0:\n",
        "        print(f\"{x} is even but not divisible by 3\")\n",
        "        even += 1\n",
        "    else:\n",
        "        print(f\"{x} is odd and not divisible by 3\")\n",
        "        odd += 1\n",
        "\n",
        "print(\"Divisible by 3:\", div3)\n",
        "print(\"Even (not div by 3):\", even)\n",
        "print(\"Odd (not div by 3):\", odd)\n"
      ],
      "metadata": {
        "colab": {
          "base_uri": "https://localhost:8080/"
        },
        "id": "VBCCpG-DiK9J",
        "outputId": "0dd1e120-569a-46ca-8f89-eba566c8a647"
      },
      "execution_count": 21,
      "outputs": [
        {
          "output_type": "stream",
          "name": "stdout",
          "text": [
            "5 is odd and not divisible by 3\n",
            "12 is divisible by 3\n",
            "7 is odd and not divisible by 3\n",
            "18 is divisible by 3\n",
            "9 is divisible by 3\n",
            "24 is divisible by 3\n",
            "3 is divisible by 3\n",
            "16 is even but not divisible by 3\n",
            "11 is odd and not divisible by 3\n",
            "Divisible by 3: 5\n",
            "Even (not div by 3): 1\n",
            "Odd (not div by 3): 3\n"
          ]
        }
      ]
    },
    {
      "cell_type": "code",
      "source": [
        "def classify_numbers(numbers):\n",
        "    count = {'positive': 0, 'zero': 0, 'negative': 0}\n",
        "\n",
        "    for num in numbers:\n",
        "        if num > 0:\n",
        "            print(f\"{num} is positive\")\n",
        "            count['positive'] += 1\n",
        "        elif num == 0:\n",
        "            print(f\"{num} is zero\")\n",
        "            count['zero'] += 1\n",
        "        else:\n",
        "            print(f\"{num} is negative\")\n",
        "            count['negative'] += 1\n",
        "\n",
        "    return count\n",
        "\n",
        "result = classify_numbers([5, -2, 0, 7, -8])\n",
        "print(\"Summary:\", result)\n"
      ],
      "metadata": {
        "colab": {
          "base_uri": "https://localhost:8080/"
        },
        "id": "pCnPDjxQjEor",
        "outputId": "3ba9bcea-f67d-4970-b8ed-02e330d3db7a"
      },
      "execution_count": 22,
      "outputs": [
        {
          "output_type": "stream",
          "name": "stdout",
          "text": [
            "5 is positive\n",
            "-2 is negative\n",
            "0 is zero\n",
            "7 is positive\n",
            "-8 is negative\n",
            "Summary: {'positive': 2, 'zero': 1, 'negative': 2}\n"
          ]
        }
      ]
    },
    {
      "cell_type": "code",
      "source": [],
      "metadata": {
        "id": "a95T3ccBjkqt"
      },
      "execution_count": null,
      "outputs": []
    }
  ]
}